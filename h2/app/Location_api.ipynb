{
 "cells": [
  {
   "cell_type": "code",
   "execution_count": 3,
   "id": "73478386",
   "metadata": {},
   "outputs": [],
   "source": [
    "import requests as r\n",
    "import json"
   ]
  },
  {
   "cell_type": "code",
   "execution_count": 4,
   "id": "50197267",
   "metadata": {},
   "outputs": [],
   "source": [
    "key= \"c7898f318b33426194a120118230205\""
   ]
  },
  {
   "cell_type": "code",
   "execution_count": 7,
   "id": "77a94619",
   "metadata": {},
   "outputs": [
    {
     "name": "stdout",
     "output_type": "stream",
     "text": [
      "ENter city latitude and longitude: 22.1927 88.1895\n",
      "Current temperature in Diamond Harbour, West Bengal, India is 34.0 degree Centigrade\n",
      "Though it feels like 39.2 degree Centigrade\n",
      "Because the humidity in your locality is 44\n",
      "The sky will be cloudy\n",
      "The current date & time is 2023-05-02 17:36\n",
      "The weather is Mist\n"
     ]
    }
   ],
   "source": [
    "lat, lon = map(float, input(\"ENter city latitude and longitude: \").split())\n",
    "resp= r.get(f\"http://api.weatherapi.com/v1/current.json?key={key}&q={lat},{lon}&aqi=no\")\n",
    "re = json.loads(resp.text)\n",
    "# print(re)\n",
    "city = re['location']['name']\n",
    "temp = re['current']['temp_c']\n",
    "sky = re['current']['cloud']\n",
    "humidity = re['current']['humidity']\n",
    "rel_temp_c = re['current']['feelslike_c']\n",
    "weather= re['current']['condition']['text']\n",
    "state= re['location']['region']\n",
    "nation=re['location']['country']\n",
    "print(f\"Current temperature in {city}, {state}, {nation} is {temp} degree Centigrade\")\n",
    "print(f\"Though it feels like {rel_temp_c} degree Centigrade\")\n",
    "print(f\"Because the humidity in your locality is {humidity}\")\n",
    "if sky == 0:\n",
    "    print(\"The sky is clear\")\n",
    "else:\n",
    "    print(\"The sky will be cloudy\")\n",
    "print(f\"The current date & time is {re['location']['localtime']}\")\n",
    "print(f\"The weather is {weather}\")\n"
   ]
  },
  {
   "cell_type": "code",
   "execution_count": 16,
   "id": "65862852",
   "metadata": {},
   "outputs": [
    {
     "data": {
      "text/plain": [
       "{'location': {'name': 'Hugli',\n",
       "  'region': 'West Bengal',\n",
       "  'country': 'India',\n",
       "  'lat': 22.9,\n",
       "  'lon': 88.39,\n",
       "  'tz_id': 'Asia/Kolkata',\n",
       "  'localtime_epoch': 1680758989,\n",
       "  'localtime': '2023-04-06 10:59'},\n",
       " 'current': {'last_updated_epoch': 1680758100,\n",
       "  'last_updated': '2023-04-06 10:45',\n",
       "  'temp_c': 34.0,\n",
       "  'temp_f': 93.2,\n",
       "  'is_day': 1,\n",
       "  'condition': {'text': 'Mist',\n",
       "   'icon': '//cdn.weatherapi.com/weather/64x64/day/143.png',\n",
       "   'code': 1030},\n",
       "  'wind_mph': 5.6,\n",
       "  'wind_kph': 9.0,\n",
       "  'wind_degree': 340,\n",
       "  'wind_dir': 'NNW',\n",
       "  'pressure_mb': 1012.0,\n",
       "  'pressure_in': 29.88,\n",
       "  'precip_mm': 0.0,\n",
       "  'precip_in': 0.0,\n",
       "  'humidity': 34,\n",
       "  'cloud': 25,\n",
       "  'feelslike_c': 32.0,\n",
       "  'feelslike_f': 89.6,\n",
       "  'vis_km': 3.6,\n",
       "  'vis_miles': 2.0,\n",
       "  'uv': 9.0,\n",
       "  'gust_mph': 6.9,\n",
       "  'gust_kph': 11.2}}"
      ]
     },
     "execution_count": 16,
     "metadata": {},
     "output_type": "execute_result"
    }
   ],
   "source": [
    "re\n",
    "\n"
   ]
  },
  {
   "cell_type": "code",
   "execution_count": null,
   "id": "aec7882e",
   "metadata": {},
   "outputs": [],
   "source": []
  }
 ],
 "metadata": {
  "kernelspec": {
   "display_name": "Python 3 (ipykernel)",
   "language": "python",
   "name": "python3"
  },
  "language_info": {
   "codemirror_mode": {
    "name": "ipython",
    "version": 3
   },
   "file_extension": ".py",
   "mimetype": "text/x-python",
   "name": "python",
   "nbconvert_exporter": "python",
   "pygments_lexer": "ipython3",
   "version": "3.9.16"
  }
 },
 "nbformat": 4,
 "nbformat_minor": 5
}
